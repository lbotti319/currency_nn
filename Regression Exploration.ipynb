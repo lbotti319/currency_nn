{
 "cells": [
  {
   "cell_type": "code",
   "execution_count": 1,
   "metadata": {},
   "outputs": [],
   "source": [
    "%load_ext autoreload\n",
    "%autoreload 2"
   ]
  },
  {
   "cell_type": "markdown",
   "metadata": {},
   "source": [
    "# Basic Model\n",
    "\n",
    "This notebook is for highlighting the initial data transformations, and show's why a regression model might not be the most interesting problem to solve"
   ]
  },
  {
   "cell_type": "code",
   "execution_count": 2,
   "metadata": {},
   "outputs": [],
   "source": [
    "import pandas as pd\n",
    "import numpy as np\n",
    "from data_prep import *"
   ]
  },
  {
   "cell_type": "code",
   "execution_count": 3,
   "metadata": {},
   "outputs": [
    {
     "data": {
      "text/html": [
       "<div>\n",
       "<style scoped>\n",
       "    .dataframe tbody tr th:only-of-type {\n",
       "        vertical-align: middle;\n",
       "    }\n",
       "\n",
       "    .dataframe tbody tr th {\n",
       "        vertical-align: top;\n",
       "    }\n",
       "\n",
       "    .dataframe thead th {\n",
       "        text-align: right;\n",
       "    }\n",
       "</style>\n",
       "<table border=\"1\" class=\"dataframe\">\n",
       "  <thead>\n",
       "    <tr style=\"text-align: right;\">\n",
       "      <th></th>\n",
       "      <th>Time Serie</th>\n",
       "      <th>AUSTRALIA - AUSTRALIAN DOLLAR/US$</th>\n",
       "      <th>EURO AREA - EURO/US$</th>\n",
       "      <th>NEW ZEALAND - NEW ZELAND DOLLAR/US$</th>\n",
       "      <th>UNITED KINGDOM - UNITED KINGDOM POUND/US$</th>\n",
       "      <th>BRAZIL - REAL/US$</th>\n",
       "      <th>CANADA - CANADIAN DOLLAR/US$</th>\n",
       "      <th>CHINA - YUAN/US$</th>\n",
       "      <th>HONG KONG - HONG KONG DOLLAR/US$</th>\n",
       "      <th>INDIA - INDIAN RUPEE/US$</th>\n",
       "      <th>...</th>\n",
       "      <th>SINGAPORE - SINGAPORE DOLLAR/US$</th>\n",
       "      <th>DENMARK - DANISH KRONE/US$</th>\n",
       "      <th>JAPAN - YEN/US$</th>\n",
       "      <th>MALAYSIA - RINGGIT/US$</th>\n",
       "      <th>NORWAY - NORWEGIAN KRONE/US$</th>\n",
       "      <th>SWEDEN - KRONA/US$</th>\n",
       "      <th>SRI LANKA - SRI LANKAN RUPEE/US$</th>\n",
       "      <th>SWITZERLAND - FRANC/US$</th>\n",
       "      <th>TAIWAN - NEW TAIWAN DOLLAR/US$</th>\n",
       "      <th>THAILAND - BAHT/US$</th>\n",
       "    </tr>\n",
       "  </thead>\n",
       "  <tbody>\n",
       "    <tr>\n",
       "      <th>0</th>\n",
       "      <td>2000-01-03</td>\n",
       "      <td>1.5172</td>\n",
       "      <td>0.9847</td>\n",
       "      <td>1.9033</td>\n",
       "      <td>0.6146</td>\n",
       "      <td>1.8050</td>\n",
       "      <td>1.4465</td>\n",
       "      <td>8.2798</td>\n",
       "      <td>7.7765</td>\n",
       "      <td>43.55</td>\n",
       "      <td>...</td>\n",
       "      <td>1.6563</td>\n",
       "      <td>7.3290</td>\n",
       "      <td>101.70</td>\n",
       "      <td>3.8</td>\n",
       "      <td>7.964</td>\n",
       "      <td>8.4430</td>\n",
       "      <td>72.30</td>\n",
       "      <td>1.5808</td>\n",
       "      <td>31.38</td>\n",
       "      <td>36.97</td>\n",
       "    </tr>\n",
       "    <tr>\n",
       "      <th>1</th>\n",
       "      <td>2000-01-04</td>\n",
       "      <td>1.5239</td>\n",
       "      <td>0.9700</td>\n",
       "      <td>1.9238</td>\n",
       "      <td>0.6109</td>\n",
       "      <td>1.8405</td>\n",
       "      <td>1.4518</td>\n",
       "      <td>8.2799</td>\n",
       "      <td>7.7775</td>\n",
       "      <td>43.55</td>\n",
       "      <td>...</td>\n",
       "      <td>1.6535</td>\n",
       "      <td>7.2180</td>\n",
       "      <td>103.09</td>\n",
       "      <td>3.8</td>\n",
       "      <td>7.934</td>\n",
       "      <td>8.3600</td>\n",
       "      <td>72.65</td>\n",
       "      <td>1.5565</td>\n",
       "      <td>30.60</td>\n",
       "      <td>37.13</td>\n",
       "    </tr>\n",
       "    <tr>\n",
       "      <th>2</th>\n",
       "      <td>2000-01-05</td>\n",
       "      <td>1.5267</td>\n",
       "      <td>0.9676</td>\n",
       "      <td>1.9339</td>\n",
       "      <td>0.6092</td>\n",
       "      <td>1.8560</td>\n",
       "      <td>1.4518</td>\n",
       "      <td>8.2798</td>\n",
       "      <td>7.7780</td>\n",
       "      <td>43.55</td>\n",
       "      <td>...</td>\n",
       "      <td>1.6560</td>\n",
       "      <td>7.2080</td>\n",
       "      <td>103.77</td>\n",
       "      <td>3.8</td>\n",
       "      <td>7.935</td>\n",
       "      <td>8.3530</td>\n",
       "      <td>72.95</td>\n",
       "      <td>1.5526</td>\n",
       "      <td>30.80</td>\n",
       "      <td>37.10</td>\n",
       "    </tr>\n",
       "    <tr>\n",
       "      <th>3</th>\n",
       "      <td>2000-01-06</td>\n",
       "      <td>1.5291</td>\n",
       "      <td>0.9686</td>\n",
       "      <td>1.9436</td>\n",
       "      <td>0.6070</td>\n",
       "      <td>1.8400</td>\n",
       "      <td>1.4571</td>\n",
       "      <td>8.2797</td>\n",
       "      <td>7.7785</td>\n",
       "      <td>43.55</td>\n",
       "      <td>...</td>\n",
       "      <td>1.6655</td>\n",
       "      <td>7.2125</td>\n",
       "      <td>105.19</td>\n",
       "      <td>3.8</td>\n",
       "      <td>7.940</td>\n",
       "      <td>8.3675</td>\n",
       "      <td>72.95</td>\n",
       "      <td>1.5540</td>\n",
       "      <td>31.75</td>\n",
       "      <td>37.62</td>\n",
       "    </tr>\n",
       "    <tr>\n",
       "      <th>4</th>\n",
       "      <td>2000-01-07</td>\n",
       "      <td>1.5272</td>\n",
       "      <td>0.9714</td>\n",
       "      <td>1.9380</td>\n",
       "      <td>0.6104</td>\n",
       "      <td>1.8310</td>\n",
       "      <td>1.4505</td>\n",
       "      <td>8.2794</td>\n",
       "      <td>7.7783</td>\n",
       "      <td>43.55</td>\n",
       "      <td>...</td>\n",
       "      <td>1.6625</td>\n",
       "      <td>7.2285</td>\n",
       "      <td>105.17</td>\n",
       "      <td>3.8</td>\n",
       "      <td>7.966</td>\n",
       "      <td>8.4150</td>\n",
       "      <td>73.15</td>\n",
       "      <td>1.5623</td>\n",
       "      <td>30.85</td>\n",
       "      <td>37.30</td>\n",
       "    </tr>\n",
       "  </tbody>\n",
       "</table>\n",
       "<p>5 rows × 23 columns</p>\n",
       "</div>"
      ],
      "text/plain": [
       "   Time Serie  AUSTRALIA - AUSTRALIAN DOLLAR/US$  EURO AREA - EURO/US$  \\\n",
       "0  2000-01-03                             1.5172                0.9847   \n",
       "1  2000-01-04                             1.5239                0.9700   \n",
       "2  2000-01-05                             1.5267                0.9676   \n",
       "3  2000-01-06                             1.5291                0.9686   \n",
       "4  2000-01-07                             1.5272                0.9714   \n",
       "\n",
       "   NEW ZEALAND - NEW ZELAND DOLLAR/US$  \\\n",
       "0                               1.9033   \n",
       "1                               1.9238   \n",
       "2                               1.9339   \n",
       "3                               1.9436   \n",
       "4                               1.9380   \n",
       "\n",
       "   UNITED KINGDOM - UNITED KINGDOM POUND/US$  BRAZIL - REAL/US$  \\\n",
       "0                                     0.6146             1.8050   \n",
       "1                                     0.6109             1.8405   \n",
       "2                                     0.6092             1.8560   \n",
       "3                                     0.6070             1.8400   \n",
       "4                                     0.6104             1.8310   \n",
       "\n",
       "   CANADA - CANADIAN DOLLAR/US$  CHINA - YUAN/US$  \\\n",
       "0                        1.4465            8.2798   \n",
       "1                        1.4518            8.2799   \n",
       "2                        1.4518            8.2798   \n",
       "3                        1.4571            8.2797   \n",
       "4                        1.4505            8.2794   \n",
       "\n",
       "   HONG KONG - HONG KONG DOLLAR/US$  INDIA - INDIAN RUPEE/US$  ...  \\\n",
       "0                            7.7765                     43.55  ...   \n",
       "1                            7.7775                     43.55  ...   \n",
       "2                            7.7780                     43.55  ...   \n",
       "3                            7.7785                     43.55  ...   \n",
       "4                            7.7783                     43.55  ...   \n",
       "\n",
       "   SINGAPORE - SINGAPORE DOLLAR/US$  DENMARK - DANISH KRONE/US$  \\\n",
       "0                            1.6563                      7.3290   \n",
       "1                            1.6535                      7.2180   \n",
       "2                            1.6560                      7.2080   \n",
       "3                            1.6655                      7.2125   \n",
       "4                            1.6625                      7.2285   \n",
       "\n",
       "   JAPAN - YEN/US$  MALAYSIA - RINGGIT/US$  NORWAY - NORWEGIAN KRONE/US$  \\\n",
       "0           101.70                     3.8                         7.964   \n",
       "1           103.09                     3.8                         7.934   \n",
       "2           103.77                     3.8                         7.935   \n",
       "3           105.19                     3.8                         7.940   \n",
       "4           105.17                     3.8                         7.966   \n",
       "\n",
       "   SWEDEN - KRONA/US$  SRI LANKA - SRI LANKAN RUPEE/US$  \\\n",
       "0              8.4430                             72.30   \n",
       "1              8.3600                             72.65   \n",
       "2              8.3530                             72.95   \n",
       "3              8.3675                             72.95   \n",
       "4              8.4150                             73.15   \n",
       "\n",
       "   SWITZERLAND - FRANC/US$  TAIWAN - NEW TAIWAN DOLLAR/US$  \\\n",
       "0                   1.5808                           31.38   \n",
       "1                   1.5565                           30.60   \n",
       "2                   1.5526                           30.80   \n",
       "3                   1.5540                           31.75   \n",
       "4                   1.5623                           30.85   \n",
       "\n",
       "   THAILAND - BAHT/US$  \n",
       "0                36.97  \n",
       "1                37.13  \n",
       "2                37.10  \n",
       "3                37.62  \n",
       "4                37.30  \n",
       "\n",
       "[5 rows x 23 columns]"
      ]
     },
     "execution_count": 3,
     "metadata": {},
     "output_type": "execute_result"
    }
   ],
   "source": [
    "df = pd.read_csv('data/Foreign_Exchange_Rates.csv', index_col=0, na_values=['ND'])\n",
    "df.head()"
   ]
  },
  {
   "cell_type": "code",
   "execution_count": 4,
   "metadata": {},
   "outputs": [
    {
     "data": {
      "text/html": [
       "<div>\n",
       "<style scoped>\n",
       "    .dataframe tbody tr th:only-of-type {\n",
       "        vertical-align: middle;\n",
       "    }\n",
       "\n",
       "    .dataframe tbody tr th {\n",
       "        vertical-align: top;\n",
       "    }\n",
       "\n",
       "    .dataframe thead th {\n",
       "        text-align: right;\n",
       "    }\n",
       "</style>\n",
       "<table border=\"1\" class=\"dataframe\">\n",
       "  <thead>\n",
       "    <tr style=\"text-align: right;\">\n",
       "      <th></th>\n",
       "      <th>EURO</th>\n",
       "    </tr>\n",
       "    <tr>\n",
       "      <th>day</th>\n",
       "      <th></th>\n",
       "    </tr>\n",
       "  </thead>\n",
       "  <tbody>\n",
       "    <tr>\n",
       "      <th>2000-01-03</th>\n",
       "      <td>0.9847</td>\n",
       "    </tr>\n",
       "    <tr>\n",
       "      <th>2000-01-04</th>\n",
       "      <td>0.9700</td>\n",
       "    </tr>\n",
       "    <tr>\n",
       "      <th>2000-01-05</th>\n",
       "      <td>0.9676</td>\n",
       "    </tr>\n",
       "    <tr>\n",
       "      <th>2000-01-06</th>\n",
       "      <td>0.9686</td>\n",
       "    </tr>\n",
       "    <tr>\n",
       "      <th>2000-01-07</th>\n",
       "      <td>0.9714</td>\n",
       "    </tr>\n",
       "  </tbody>\n",
       "</table>\n",
       "</div>"
      ],
      "text/plain": [
       "              EURO\n",
       "day               \n",
       "2000-01-03  0.9847\n",
       "2000-01-04  0.9700\n",
       "2000-01-05  0.9676\n",
       "2000-01-06  0.9686\n",
       "2000-01-07  0.9714"
      ]
     },
     "execution_count": 4,
     "metadata": {},
     "output_type": "execute_result"
    }
   ],
   "source": [
    "df = fetch_data(augment=False)\n",
    "df.head()"
   ]
  },
  {
   "cell_type": "code",
   "execution_count": 5,
   "metadata": {},
   "outputs": [
    {
     "data": {
      "text/html": [
       "<div>\n",
       "<style scoped>\n",
       "    .dataframe tbody tr th:only-of-type {\n",
       "        vertical-align: middle;\n",
       "    }\n",
       "\n",
       "    .dataframe tbody tr th {\n",
       "        vertical-align: top;\n",
       "    }\n",
       "\n",
       "    .dataframe thead th {\n",
       "        text-align: right;\n",
       "    }\n",
       "</style>\n",
       "<table border=\"1\" class=\"dataframe\">\n",
       "  <thead>\n",
       "    <tr style=\"text-align: right;\">\n",
       "      <th></th>\n",
       "      <th>EURO</th>\n",
       "      <th>target</th>\n",
       "    </tr>\n",
       "    <tr>\n",
       "      <th>day</th>\n",
       "      <th></th>\n",
       "      <th></th>\n",
       "    </tr>\n",
       "  </thead>\n",
       "  <tbody>\n",
       "    <tr>\n",
       "      <th>2000-01-03</th>\n",
       "      <td>0.984700</td>\n",
       "      <td>0.970000</td>\n",
       "    </tr>\n",
       "    <tr>\n",
       "      <th>2000-01-04</th>\n",
       "      <td>0.970000</td>\n",
       "      <td>0.967600</td>\n",
       "    </tr>\n",
       "    <tr>\n",
       "      <th>2000-01-05</th>\n",
       "      <td>0.967600</td>\n",
       "      <td>0.968600</td>\n",
       "    </tr>\n",
       "    <tr>\n",
       "      <th>2000-01-06</th>\n",
       "      <td>0.968600</td>\n",
       "      <td>0.971400</td>\n",
       "    </tr>\n",
       "    <tr>\n",
       "      <th>2000-01-07</th>\n",
       "      <td>0.971400</td>\n",
       "      <td>0.972733</td>\n",
       "    </tr>\n",
       "    <tr>\n",
       "      <th>...</th>\n",
       "      <td>...</td>\n",
       "      <td>...</td>\n",
       "    </tr>\n",
       "    <tr>\n",
       "      <th>2019-12-26</th>\n",
       "      <td>0.900700</td>\n",
       "      <td>0.894900</td>\n",
       "    </tr>\n",
       "    <tr>\n",
       "      <th>2019-12-27</th>\n",
       "      <td>0.894900</td>\n",
       "      <td>0.893767</td>\n",
       "    </tr>\n",
       "    <tr>\n",
       "      <th>2019-12-28</th>\n",
       "      <td>0.893767</td>\n",
       "      <td>0.892633</td>\n",
       "    </tr>\n",
       "    <tr>\n",
       "      <th>2019-12-29</th>\n",
       "      <td>0.892633</td>\n",
       "      <td>0.891500</td>\n",
       "    </tr>\n",
       "    <tr>\n",
       "      <th>2019-12-30</th>\n",
       "      <td>0.891500</td>\n",
       "      <td>0.890700</td>\n",
       "    </tr>\n",
       "  </tbody>\n",
       "</table>\n",
       "<p>7302 rows × 2 columns</p>\n",
       "</div>"
      ],
      "text/plain": [
       "                EURO    target\n",
       "day                           \n",
       "2000-01-03  0.984700  0.970000\n",
       "2000-01-04  0.970000  0.967600\n",
       "2000-01-05  0.967600  0.968600\n",
       "2000-01-06  0.968600  0.971400\n",
       "2000-01-07  0.971400  0.972733\n",
       "...              ...       ...\n",
       "2019-12-26  0.900700  0.894900\n",
       "2019-12-27  0.894900  0.893767\n",
       "2019-12-28  0.893767  0.892633\n",
       "2019-12-29  0.892633  0.891500\n",
       "2019-12-30  0.891500  0.890700\n",
       "\n",
       "[7302 rows x 2 columns]"
      ]
     },
     "execution_count": 5,
     "metadata": {},
     "output_type": "execute_result"
    }
   ],
   "source": [
    "set_target_regression(df, 1)"
   ]
  },
  {
   "cell_type": "code",
   "execution_count": 6,
   "metadata": {},
   "outputs": [],
   "source": [
    "work_df = set_target_regression(df, 30)"
   ]
  },
  {
   "cell_type": "code",
   "execution_count": 7,
   "metadata": {},
   "outputs": [
    {
     "data": {
      "text/html": [
       "<div>\n",
       "<style scoped>\n",
       "    .dataframe tbody tr th:only-of-type {\n",
       "        vertical-align: middle;\n",
       "    }\n",
       "\n",
       "    .dataframe tbody tr th {\n",
       "        vertical-align: top;\n",
       "    }\n",
       "\n",
       "    .dataframe thead th {\n",
       "        text-align: right;\n",
       "    }\n",
       "</style>\n",
       "<table border=\"1\" class=\"dataframe\">\n",
       "  <thead>\n",
       "    <tr style=\"text-align: right;\">\n",
       "      <th></th>\n",
       "      <th>EURO</th>\n",
       "      <th>target</th>\n",
       "      <th>EURO_1</th>\n",
       "      <th>EURO_2</th>\n",
       "      <th>EURO_3</th>\n",
       "      <th>EURO_4</th>\n",
       "    </tr>\n",
       "    <tr>\n",
       "      <th>day</th>\n",
       "      <th></th>\n",
       "      <th></th>\n",
       "      <th></th>\n",
       "      <th></th>\n",
       "      <th></th>\n",
       "      <th></th>\n",
       "    </tr>\n",
       "  </thead>\n",
       "  <tbody>\n",
       "    <tr>\n",
       "      <th>2000-01-07</th>\n",
       "      <td>0.971400</td>\n",
       "      <td>1.023000</td>\n",
       "      <td>0.968600</td>\n",
       "      <td>0.967600</td>\n",
       "      <td>0.970000</td>\n",
       "      <td>0.984700</td>\n",
       "    </tr>\n",
       "    <tr>\n",
       "      <th>2000-01-08</th>\n",
       "      <td>0.972733</td>\n",
       "      <td>1.022200</td>\n",
       "      <td>0.971400</td>\n",
       "      <td>0.968600</td>\n",
       "      <td>0.967600</td>\n",
       "      <td>0.970000</td>\n",
       "    </tr>\n",
       "    <tr>\n",
       "      <th>2000-01-09</th>\n",
       "      <td>0.974067</td>\n",
       "      <td>1.014000</td>\n",
       "      <td>0.972733</td>\n",
       "      <td>0.971400</td>\n",
       "      <td>0.968600</td>\n",
       "      <td>0.967600</td>\n",
       "    </tr>\n",
       "    <tr>\n",
       "      <th>2000-01-10</th>\n",
       "      <td>0.975400</td>\n",
       "      <td>1.008700</td>\n",
       "      <td>0.974067</td>\n",
       "      <td>0.972733</td>\n",
       "      <td>0.971400</td>\n",
       "      <td>0.968600</td>\n",
       "    </tr>\n",
       "    <tr>\n",
       "      <th>2000-01-11</th>\n",
       "      <td>0.968800</td>\n",
       "      <td>1.013700</td>\n",
       "      <td>0.975400</td>\n",
       "      <td>0.974067</td>\n",
       "      <td>0.972733</td>\n",
       "      <td>0.971400</td>\n",
       "    </tr>\n",
       "    <tr>\n",
       "      <th>2000-01-12</th>\n",
       "      <td>0.972700</td>\n",
       "      <td>1.015500</td>\n",
       "      <td>0.968800</td>\n",
       "      <td>0.975400</td>\n",
       "      <td>0.974067</td>\n",
       "      <td>0.972733</td>\n",
       "    </tr>\n",
       "    <tr>\n",
       "      <th>2000-01-13</th>\n",
       "      <td>0.973700</td>\n",
       "      <td>1.017733</td>\n",
       "      <td>0.972700</td>\n",
       "      <td>0.968800</td>\n",
       "      <td>0.975400</td>\n",
       "      <td>0.974067</td>\n",
       "    </tr>\n",
       "    <tr>\n",
       "      <th>2000-01-14</th>\n",
       "      <td>0.987400</td>\n",
       "      <td>1.019967</td>\n",
       "      <td>0.973700</td>\n",
       "      <td>0.972700</td>\n",
       "      <td>0.968800</td>\n",
       "      <td>0.975400</td>\n",
       "    </tr>\n",
       "    <tr>\n",
       "      <th>2000-01-15</th>\n",
       "      <td>0.987550</td>\n",
       "      <td>1.022200</td>\n",
       "      <td>0.987400</td>\n",
       "      <td>0.973700</td>\n",
       "      <td>0.972700</td>\n",
       "      <td>0.968800</td>\n",
       "    </tr>\n",
       "    <tr>\n",
       "      <th>2000-01-16</th>\n",
       "      <td>0.987700</td>\n",
       "      <td>1.016900</td>\n",
       "      <td>0.987550</td>\n",
       "      <td>0.987400</td>\n",
       "      <td>0.973700</td>\n",
       "      <td>0.972700</td>\n",
       "    </tr>\n",
       "  </tbody>\n",
       "</table>\n",
       "</div>"
      ],
      "text/plain": [
       "                EURO    target    EURO_1    EURO_2    EURO_3    EURO_4\n",
       "day                                                                   \n",
       "2000-01-07  0.971400  1.023000  0.968600  0.967600  0.970000  0.984700\n",
       "2000-01-08  0.972733  1.022200  0.971400  0.968600  0.967600  0.970000\n",
       "2000-01-09  0.974067  1.014000  0.972733  0.971400  0.968600  0.967600\n",
       "2000-01-10  0.975400  1.008700  0.974067  0.972733  0.971400  0.968600\n",
       "2000-01-11  0.968800  1.013700  0.975400  0.974067  0.972733  0.971400\n",
       "2000-01-12  0.972700  1.015500  0.968800  0.975400  0.974067  0.972733\n",
       "2000-01-13  0.973700  1.017733  0.972700  0.968800  0.975400  0.974067\n",
       "2000-01-14  0.987400  1.019967  0.973700  0.972700  0.968800  0.975400\n",
       "2000-01-15  0.987550  1.022200  0.987400  0.973700  0.972700  0.968800\n",
       "2000-01-16  0.987700  1.016900  0.987550  0.987400  0.973700  0.972700"
      ]
     },
     "execution_count": 7,
     "metadata": {},
     "output_type": "execute_result"
    }
   ],
   "source": [
    "\n",
    "full_df = expand_columns(work_df, ['EURO'], 4)\n",
    "full_df.head(n=10)\n"
   ]
  },
  {
   "cell_type": "code",
   "execution_count": 8,
   "metadata": {},
   "outputs": [],
   "source": [
    "import torch"
   ]
  },
  {
   "cell_type": "code",
   "execution_count": 9,
   "metadata": {},
   "outputs": [],
   "source": [
    "\n",
    "x = full_df.drop('target', axis=1).values\n",
    "target = full_df['target'].values\n",
    "\n",
    "D_in = x.shape[1]\n",
    "H = int(D_in/2)\n",
    "D_out = 1"
   ]
  },
  {
   "cell_type": "code",
   "execution_count": 10,
   "metadata": {},
   "outputs": [],
   "source": [
    "from torch.utils.data import DataLoader, Dataset\n",
    "from model_utils import BasicData"
   ]
  },
  {
   "cell_type": "code",
   "execution_count": 11,
   "metadata": {},
   "outputs": [],
   "source": [
    "if torch.cuda.is_available():\n",
    "    print(\"gpu available, using gpu\")\n",
    "    dev = \"cuda:0\" \n",
    "else:  \n",
    "    dev = \"cpu\"  \n",
    "device = torch.device(dev)  "
   ]
  },
  {
   "cell_type": "code",
   "execution_count": 12,
   "metadata": {},
   "outputs": [],
   "source": [
    "X_train, X_test, y_train, y_test = train_test_split(x, target, percentile=0.5)\n",
    "training_data = BasicData(X_train, y_train, device)\n",
    "test_data = BasicData(X_test, y_test, device)\n",
    "train_loader = DataLoader(training_data, batch_size=64, shuffle=True)\n",
    "test_loader = DataLoader(test_data, batch_size=64, shuffle=True)"
   ]
  },
  {
   "cell_type": "code",
   "execution_count": 13,
   "metadata": {},
   "outputs": [],
   "source": [
    "from model_utils import pred_accuracy, train_net "
   ]
  },
  {
   "cell_type": "code",
   "execution_count": 14,
   "metadata": {},
   "outputs": [],
   "source": [
    "from plotting_utils import plot_train_test_regression"
   ]
  },
  {
   "cell_type": "code",
   "execution_count": 15,
   "metadata": {},
   "outputs": [],
   "source": [
    "class Net(torch.nn.Module):\n",
    "    def __init__(self, inp_d, hid_d, out_d):\n",
    "        super(Net, self).__init__()\n",
    "        self.fc1 = torch.nn.Linear(inp_d, hid_d)\n",
    "        self.fc2 = torch.nn.Linear(hid_d, out_d)\n",
    "\n",
    "    def forward(self, x):\n",
    "        x = self.fc1(x)\n",
    "        x = torch.relu(x)\n",
    "        x = self.fc2(x)\n",
    "        return x\n",
    "\n",
    "\n",
    "\n",
    "model = Net(5, 3, 1)\n",
    "model.to(device)\n",
    "\n",
    "train_history, test_history = train_net(\n",
    "    model, train_loader, test_data, epochs=100, learning_rate=0.01)"
   ]
  },
  {
   "cell_type": "code",
   "execution_count": 16,
   "metadata": {},
   "outputs": [
    {
     "data": {
      "image/png": "[encoded data removed]",
      "text/plain": [
       "<Figure size 432x288 with 1 Axes>"
      ]
     },
     "metadata": {
      "needs_background": "light"
     },
     "output_type": "display_data"
    }
   ],
   "source": [
    "plot_train_test_regression(train_history, test_history)"
   ]
  },
  {
   "cell_type": "code",
   "execution_count": 17,
   "metadata": {},
   "outputs": [],
   "source": [
    "from sklearn.metrics import r2_score"
   ]
  },
  {
   "cell_type": "code",
   "execution_count": 18,
   "metadata": {},
   "outputs": [
    {
     "name": "stdout",
     "output_type": "stream",
     "text": [
      "R-squared: 0.9267979021152509\n"
     ]
    }
   ],
   "source": [
    "y_pred = model(test_data.x).squeeze().detach().cpu()\n",
    "r_squared = r2_score(test_data.y.cpu(), y_pred)\n",
    "print(\"R-squared:\", r_squared)"
   ]
  },
  {
   "cell_type": "code",
   "execution_count": 19,
   "metadata": {},
   "outputs": [],
   "source": [
    "import matplotlib.pyplot as plt"
   ]
  },
  {
   "cell_type": "code",
   "execution_count": 20,
   "metadata": {},
   "outputs": [
    {
     "data": {
      "image/png": "[encoded data removed]",
      "text/plain": [
       "<Figure size 432x288 with 1 Axes>"
      ]
     },
     "metadata": {
      "needs_background": "light"
     },
     "output_type": "display_data"
    }
   ],
   "source": [
    "plt.plot(test_data.y.cpu(), label=\"True Values\")\n",
    "plt.plot(y_pred, label='Predictions')\n",
    "plt.legend()\n",
    "plt.show()"
   ]
  },
  {
   "cell_type": "markdown",
   "metadata": {},
   "source": [
    "R-Squared scores for 1 day, 10 days, and 30 days are 0.99, 0.969, and 0.925 respectively"
   ]
  },
  {
   "cell_type": "markdown",
   "metadata": {},
   "source": [
    "## Single Layer Net"
   ]
  },
  {
   "cell_type": "code",
   "execution_count": 21,
   "metadata": {},
   "outputs": [
    {
     "data": {
      "image/png": "[encoded data removed]",
      "text/plain": [
       "<Figure size 432x288 with 1 Axes>"
      ]
     },
     "metadata": {
      "needs_background": "light"
     },
     "output_type": "display_data"
    }
   ],
   "source": [
    "class Net_Basic(torch.nn.Module):\n",
    "    def __init__(self, inp_d, out_d):\n",
    "        super(Net_Basic, self).__init__()\n",
    "        self.fc1 = torch.nn.Linear(inp_d, out_d)\n",
    "\n",
    "    def forward(self, x):\n",
    "        x = self.fc1(x)\n",
    "        return x\n",
    "\n",
    "model = Net_Basic(5, 1)\n",
    "model.to(device)\n",
    "\n",
    "train_history, test_history = train_net(\n",
    "    model, train_loader, test_data, epochs=100, learning_rate=0.01)\n",
    "plot_train_test_regression(train_history, test_history)"
   ]
  },
  {
   "cell_type": "code",
   "execution_count": 22,
   "metadata": {},
   "outputs": [
    {
     "name": "stdout",
     "output_type": "stream",
     "text": [
      "R-squared: 0.9248515633282427\n"
     ]
    }
   ],
   "source": [
    "y_pred = model(test_data.x).squeeze().detach().cpu()\n",
    "r_squared = r2_score(test_data.y.cpu(), y_pred)\n",
    "print(\"R-squared:\", r_squared)"
   ]
  },
  {
   "cell_type": "code",
   "execution_count": 23,
   "metadata": {},
   "outputs": [
    {
     "data": {
      "image/png": "[encoded data removed]",
      "text/plain": [
       "<Figure size 432x288 with 1 Axes>"
      ]
     },
     "metadata": {
      "needs_background": "light"
     },
     "output_type": "display_data"
    }
   ],
   "source": [
    "plt.plot(test_data.y.cpu(), label=\"True Values\")\n",
    "plt.plot(y_pred, label='Predictions')\n",
    "plt.legend()\n",
    "plt.show()"
   ]
  },
  {
   "cell_type": "markdown",
   "metadata": {},
   "source": [
    "R-Squared scores for 1 day, 10 days, and 30 days are 0.99, 0.974, and 0.928 respectively"
   ]
  },
  {
   "cell_type": "markdown",
   "metadata": {},
   "source": [
    "# Conclustion\n",
    "\n",
    "Regression is too easy for this problem. We can see that the model is mostly just using the most recent day as its prediction"
   ]
  },
  {
   "cell_type": "code",
   "execution_count": null,
   "metadata": {},
   "outputs": [],
   "source": []
  }
 ],
 "metadata": {
  "kernelspec": {
   "display_name": "Python [conda env:pytorch]",
   "language": "python",
   "name": "conda-env-pytorch-py"
  },
  "language_info": {
   "codemirror_mode": {
    "name": "ipython",
    "version": 3
   },
   "file_extension": ".py",
   "mimetype": "text/x-python",
   "name": "python",
   "nbconvert_exporter": "python",
   "pygments_lexer": "ipython3",
   "version": "3.8.5"
  },
  "toc": {
   "base_numbering": 1,
   "nav_menu": {},
   "number_sections": true,
   "sideBar": true,
   "skip_h1_title": false,
   "title_cell": "Table of Contents",
   "title_sidebar": "Contents",
   "toc_cell": false,
   "toc_position": {},
   "toc_section_display": true,
   "toc_window_display": false
  }
 },
 "nbformat": 4,
 "nbformat_minor": 4
}
