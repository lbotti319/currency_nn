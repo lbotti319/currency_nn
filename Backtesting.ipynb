{
 "cells": [
  {
   "cell_type": "code",
   "execution_count": 1,
   "metadata": {},
   "outputs": [],
   "source": [
    "%load_ext autoreload\n",
    "%autoreload 2"
   ]
  },
  {
   "cell_type": "code",
   "execution_count": 3,
   "metadata": {},
   "outputs": [],
   "source": [
    "from torch.utils.data import DataLoader\n",
    "from torch import nn\n",
    "import torch\n",
    "from sklearn.preprocessing import MinMaxScaler\n",
    "import pandas as pd\n",
    "import numpy as np\n",
    "\n",
    "from data_prep import fetch_data, interpolate, set_target, backstep_columns, train_test_split\n",
    "from model_utils import BasicData, train_net, pred_accuracy, LSTM"
   ]
  },
  {
   "cell_type": "code",
   "execution_count": 6,
   "metadata": {},
   "outputs": [],
   "source": [
    "# Prep Data\n",
    "df = fetch_data(num_currencies=2)\n",
    "df = interpolate(df)\n",
    "df = set_target(df, 1)\n",
    "targets = df['target']\n",
    "features = df.drop('target', axis=1)\n",
    "\n",
    "\n",
    "# scaling\n",
    "scaler = MinMaxScaler()\n",
    "scaled_features = pd.DataFrame(scaler.fit_transform(features), columns = features.columns)\n",
    "\n",
    "# shaping\n",
    "backsteps = 10\n",
    "shaped_features = backstep_columns(scaled_features, ['EURO', 'POUND'], backsteps)\n",
    "targets = targets[backsteps:]\n",
    "assert shaped_features.shape[0] == targets.shape[0]"
   ]
  },
  {
   "cell_type": "code",
   "execution_count": null,
   "metadata": {},
   "outputs": [],
   "source": [
    "model = LSTM(2, 5, 5, 1)\n",
    "accuracies = []\n",
    "for i in range(120, len(shaped_features)-30, 30):\n",
    "    X_train, X_test, y_train, y_test = train_test_split(\n",
    "        shaped_features, targets,\n",
    "        test_window=[i, i+30]\n",
    "    )\n",
    "    training_data = BasicData(X_train, y_train)\n",
    "    test_data = BasicData(X_test, y_test)\n",
    "    train_loader = DataLoader(\n",
    "        training_data, batch_size=64, shuffle=True, drop_last=True\n",
    "    )\n",
    "    test_loader = DataLoader(\n",
    "        test_data, batch_size=64,\n",
    "        shuffle=True, drop_last=True\n",
    "    )\n",
    "    # Train 100 epochs adding the new data in\n",
    "    train_net(\n",
    "        model, train_loader, test_data,\n",
    "        loss_fn=torch.nn.BCEWithLogitsLoss(),\n",
    "        epochs=100, learning_rate=0.01\n",
    "    )\n",
    "    month_acc = pred_accuracy(model(test_data.x).squeeze(), test_data.y)\n",
    "    accuracies.append(month_acc)"
   ]
  },
  {
   "cell_type": "code",
   "execution_count": null,
   "metadata": {},
   "outputs": [],
   "source": [
    "plt.plot(accuracies)"
   ]
  },
  {
   "cell_type": "code",
   "execution_count": null,
   "metadata": {},
   "outputs": [],
   "source": []
  }
 ],
 "metadata": {
  "kernelspec": {
   "display_name": "Python [conda env:pytorch]",
   "language": "python",
   "name": "conda-env-pytorch-py"
  },
  "language_info": {
   "codemirror_mode": {
    "name": "ipython",
    "version": 3
   },
   "file_extension": ".py",
   "mimetype": "text/x-python",
   "name": "python",
   "nbconvert_exporter": "python",
   "pygments_lexer": "ipython3",
   "version": "3.8.5"
  },
  "toc": {
   "base_numbering": 1,
   "nav_menu": {},
   "number_sections": true,
   "sideBar": true,
   "skip_h1_title": false,
   "title_cell": "Table of Contents",
   "title_sidebar": "Contents",
   "toc_cell": false,
   "toc_position": {},
   "toc_section_display": true,
   "toc_window_display": false
  }
 },
 "nbformat": 4,
 "nbformat_minor": 4
}
