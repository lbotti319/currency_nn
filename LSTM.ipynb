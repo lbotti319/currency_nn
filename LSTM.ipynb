{
 "cells": [
  {
   "cell_type": "code",
   "execution_count": 38,
   "metadata": {},
   "outputs": [
    {
     "name": "stdout",
     "output_type": "stream",
     "text": [
      "The autoreload extension is already loaded. To reload it, use:\n",
      "  %reload_ext autoreload\n"
     ]
    }
   ],
   "source": [
    "%load_ext autoreload\n",
    "%autoreload 2"
   ]
  },
  {
   "cell_type": "code",
   "execution_count": 39,
   "metadata": {},
   "outputs": [],
   "source": [
    "import pandas as pd\n",
    "import numpy as np\n",
    "from data_prep import *"
   ]
  },
  {
   "cell_type": "code",
   "execution_count": 40,
   "metadata": {},
   "outputs": [
    {
     "data": {
      "text/html": [
       "<div>\n",
       "<style scoped>\n",
       "    .dataframe tbody tr th:only-of-type {\n",
       "        vertical-align: middle;\n",
       "    }\n",
       "\n",
       "    .dataframe tbody tr th {\n",
       "        vertical-align: top;\n",
       "    }\n",
       "\n",
       "    .dataframe thead th {\n",
       "        text-align: right;\n",
       "    }\n",
       "</style>\n",
       "<table border=\"1\" class=\"dataframe\">\n",
       "  <thead>\n",
       "    <tr style=\"text-align: right;\">\n",
       "      <th></th>\n",
       "      <th>EURO</th>\n",
       "      <th>POUND</th>\n",
       "      <th>target</th>\n",
       "    </tr>\n",
       "    <tr>\n",
       "      <th>day</th>\n",
       "      <th></th>\n",
       "      <th></th>\n",
       "      <th></th>\n",
       "    </tr>\n",
       "  </thead>\n",
       "  <tbody>\n",
       "    <tr>\n",
       "      <th>2000-01-03</th>\n",
       "      <td>0.9847</td>\n",
       "      <td>0.6146</td>\n",
       "      <td>0</td>\n",
       "    </tr>\n",
       "    <tr>\n",
       "      <th>2000-01-04</th>\n",
       "      <td>0.9700</td>\n",
       "      <td>0.6109</td>\n",
       "      <td>0</td>\n",
       "    </tr>\n",
       "    <tr>\n",
       "      <th>2000-01-05</th>\n",
       "      <td>0.9676</td>\n",
       "      <td>0.6092</td>\n",
       "      <td>1</td>\n",
       "    </tr>\n",
       "    <tr>\n",
       "      <th>2000-01-06</th>\n",
       "      <td>0.9686</td>\n",
       "      <td>0.6070</td>\n",
       "      <td>1</td>\n",
       "    </tr>\n",
       "    <tr>\n",
       "      <th>2000-01-07</th>\n",
       "      <td>0.9714</td>\n",
       "      <td>0.6104</td>\n",
       "      <td>1</td>\n",
       "    </tr>\n",
       "  </tbody>\n",
       "</table>\n",
       "</div>"
      ],
      "text/plain": [
       "              EURO   POUND  target\n",
       "day                               \n",
       "2000-01-03  0.9847  0.6146       0\n",
       "2000-01-04  0.9700  0.6109       0\n",
       "2000-01-05  0.9676  0.6092       1\n",
       "2000-01-06  0.9686  0.6070       1\n",
       "2000-01-07  0.9714  0.6104       1"
      ]
     },
     "execution_count": 40,
     "metadata": {},
     "output_type": "execute_result"
    }
   ],
   "source": [
    "df = fetch_data(num_currencies=2)\n",
    "df = interpolate(df)\n",
    "df = set_target(df, 1)\n",
    "df.head()"
   ]
  },
  {
   "cell_type": "code",
   "execution_count": 58,
   "metadata": {},
   "outputs": [],
   "source": [
    "targets = df['target']\n",
    "features = df.drop('target', axis=1)"
   ]
  },
  {
   "cell_type": "markdown",
   "metadata": {},
   "source": [
    "## Train test Split"
   ]
  },
  {
   "cell_type": "code",
   "execution_count": 59,
   "metadata": {},
   "outputs": [],
   "source": [
    "def train_test_split(features, targets, percentile=None, test_window=None):\n",
    "    \"\"\"\n",
    "    :param percentile: float or None\n",
    "    :param test_window: tuple or None\n",
    "    \"\"\"\n",
    "    if percentile is not None:\n",
    "        cutoff = int(features.shape[0]*percentile)\n",
    "        X_train, X_test = features[:cutoff], features[cutoff:]\n",
    "        y_train, y_test = targets[:cutoff], targets[cutoff:]\n",
    "    elif test_window is not None:\n",
    "        start = test_window[0]\n",
    "        end = test_window[1]\n",
    "        X_train, X_test = features[:start], features[start:end]\n",
    "        y_train, y_test = targets[:start], cutoff[start:end]\n",
    "    return X_train, X_test, y_train, y_test\n",
    "X_train, X_test, y_train, y_test = train_test_split(features, targets, percentile=0.7)"
   ]
  },
  {
   "cell_type": "markdown",
   "metadata": {},
   "source": [
    "## Scale data"
   ]
  },
  {
   "cell_type": "code",
   "execution_count": 53,
   "metadata": {},
   "outputs": [],
   "source": [
    "from sklearn.preprocessing import MinMaxScaler"
   ]
  },
  {
   "cell_type": "code",
   "execution_count": 60,
   "metadata": {},
   "outputs": [],
   "source": [
    "scaler = MinMaxScaler()\n",
    "scaled_train = pd.DataFrame(scaler.fit_transform(X_train), columns = X_train.columns)\n",
    "scaled_test = pd.DataFrame(scaler.transform(X_test), columns = X_test.columns)"
   ]
  },
  {
   "cell_type": "markdown",
   "metadata": {},
   "source": [
    "## Reshape Data"
   ]
  },
  {
   "cell_type": "code",
   "execution_count": 62,
   "metadata": {},
   "outputs": [
    {
     "name": "stdout",
     "output_type": "stream",
     "text": [
      "(2186, 6, 2)\n"
     ]
    },
    {
     "data": {
      "text/plain": [
       "array([[[0.17293876, 0.50154799],\n",
       "        [0.17789942, 0.51083591],\n",
       "        [0.18286008, 0.52012384],\n",
       "        [0.18884707, 0.52283282],\n",
       "        [0.18793477, 0.52334881],\n",
       "        [0.18702247, 0.52386481]],\n",
       "\n",
       "       [[0.17789942, 0.51083591],\n",
       "        [0.18286008, 0.52012384],\n",
       "        [0.18884707, 0.52283282],\n",
       "        [0.18793477, 0.52334881],\n",
       "        [0.18702247, 0.52386481],\n",
       "        [0.18611016, 0.5243808 ]],\n",
       "\n",
       "       [[0.18286008, 0.52012384],\n",
       "        [0.18884707, 0.52283282],\n",
       "        [0.18793477, 0.52334881],\n",
       "        [0.18702247, 0.52386481],\n",
       "        [0.18611016, 0.5243808 ],\n",
       "        [0.18764967, 0.52321981]]])"
      ]
     },
     "execution_count": 62,
     "metadata": {},
     "output_type": "execute_result"
    }
   ],
   "source": [
    "def backstep_columns(df, columns=['EURO'], steps=3):\n",
    "    N = df.shape[0] - steps\n",
    "    # Increment steps by 1 to account for the current day\n",
    "    steps = steps +1\n",
    "    output = np.zeros((N, steps, len(columns)))\n",
    "    for i, c in enumerate(columns):\n",
    "        for j in range(steps):\n",
    "            # Fill in backwards, so the oldest is last\n",
    "            output[:,steps-j-1,i] = df[c].shift(j)[steps-1:]\n",
    "    return output\n",
    "shaped_train = backstep_columns(scaled_train, ['EURO', 'POUND'], 5)\n",
    "shaped_test = backstep_columns(scaled_test, ['EURO', 'POUND'], 5)\n",
    "        \n",
    "print(shaped_test.shape)\n",
    "shaped_test[:3]"
   ]
  },
  {
   "cell_type": "markdown",
   "metadata": {},
   "source": [
    "## Convert to Pytorch Data"
   ]
  },
  {
   "cell_type": "code",
   "execution_count": 70,
   "metadata": {},
   "outputs": [],
   "source": [
    "from model_utils import BasicData\n",
    "from torch.utils.data import DataLoader\n",
    "from torch import nn"
   ]
  },
  {
   "cell_type": "code",
   "execution_count": 71,
   "metadata": {},
   "outputs": [],
   "source": [
    "training_data = BasicData(shaped_train, y_train)\n",
    "test_data = BasicData(shaped_test, y_test)\n",
    "train_loader = DataLoader(training_data, batch_size=64, shuffle=True, drop_last=True)\n",
    "test_loader = DataLoader(test_data, batch_size=64, shuffle=True, drop_last=True)"
   ]
  },
  {
   "cell_type": "code",
   "execution_count": null,
   "metadata": {},
   "outputs": [],
   "source": [
    "class LSTM(nn.Module):\n",
    "\n",
    "    def __init__(self, input_size, hidden_size, num_layers, out_d):\n",
    "        super(LSTM, self).__init__()\n",
    "\n",
    "        self.num_classes = num_classes\n",
    "        self.num_layers = num_layers\n",
    "        self.input_size = input_size\n",
    "        self.hidden_size = hidden_size\n",
    "        self.seq_length = seq_length\n",
    "\n",
    "        self.lstm = nn.LSTM(input_size=input_size, hidden_size=hidden_size,\n",
    "                            num_layers=num_layers, batch_first=True)\n",
    "\n",
    "        self.fc = nn.Linear(hidden_size, out_d)\n",
    "\n",
    "    def forward(self, x):\n",
    "        h_0 = torch.zeros(\n",
    "            self.num_layers, x.shape[0], self.hidden_size)\n",
    "\n",
    "        c_0 = torch.zeros(\n",
    "            self.num_layers, x.shape[0], self.hidden_size)\n",
    "\n",
    "        # Propagate input through LSTM\n",
    "        ula, (h_out, _) = self.lstm(x, (h_0, c_0))\n",
    "        print(h_out.shape)\n",
    "\n",
    "        h_out = h_out.view(-1, self.hidden_size)\n",
    "        print(h_out.shape)\n",
    "\n",
    "        out = self.fc(h_out)\n",
    "\n",
    "        return out"
   ]
  }
 ],
 "metadata": {
  "kernelspec": {
   "display_name": "Python [conda env:pytorch]",
   "language": "python",
   "name": "conda-env-pytorch-py"
  },
  "language_info": {
   "codemirror_mode": {
    "name": "ipython",
    "version": 3
   },
   "file_extension": ".py",
   "mimetype": "text/x-python",
   "name": "python",
   "nbconvert_exporter": "python",
   "pygments_lexer": "ipython3",
   "version": "3.8.5"
  },
  "toc": {
   "base_numbering": 1,
   "nav_menu": {},
   "number_sections": true,
   "sideBar": true,
   "skip_h1_title": false,
   "title_cell": "Table of Contents",
   "title_sidebar": "Contents",
   "toc_cell": false,
   "toc_position": {},
   "toc_section_display": true,
   "toc_window_display": false
  }
 },
 "nbformat": 4,
 "nbformat_minor": 4
}
